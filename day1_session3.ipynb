{
  "nbformat": 4,
  "nbformat_minor": 0,
  "metadata": {
    "colab": {
      "provenance": [],
      "authorship_tag": "ABX9TyOIh3c0F9/udAbAATXBGEnI",
      "include_colab_link": true
    },
    "kernelspec": {
      "name": "python3",
      "display_name": "Python 3"
    },
    "language_info": {
      "name": "python"
    }
  },
  "cells": [
    {
      "cell_type": "markdown",
      "metadata": {
        "id": "view-in-github",
        "colab_type": "text"
      },
      "source": [
        "<a href=\"https://colab.research.google.com/github/aayushka1/LLM1/blob/main/day1_session3.ipynb\" target=\"_parent\"><img src=\"https://colab.research.google.com/assets/colab-badge.svg\" alt=\"Open In Colab\"/></a>"
      ]
    },
    {
      "cell_type": "code",
      "execution_count": null,
      "metadata": {
        "id": "YP3brfPsv31h"
      },
      "outputs": [],
      "source": [
        "from google.colab import userdata\n",
        "api_key=userdata.get('gemini_api_key')\n"
      ]
    },
    {
      "cell_type": "code",
      "source": [
        "import google.generativeai as genai"
      ],
      "metadata": {
        "id": "uz1hJcJD0T52"
      },
      "execution_count": null,
      "outputs": []
    },
    {
      "cell_type": "code",
      "source": [
        "genai.configure(api_key=api_key)\n",
        "llm=genai.GenerativeModel('gemini-2.5-flash')\n",
        "response=llm.generate_content(\"Tell me a reallyyyyy good joke\")"
      ],
      "metadata": {
        "id": "qcu2FyHizk7c"
      },
      "execution_count": null,
      "outputs": []
    },
    {
      "cell_type": "code",
      "source": [
        "response\n"
      ],
      "metadata": {
        "colab": {
          "base_uri": "https://localhost:8080/"
        },
        "id": "tEWpnC_wzzTn",
        "outputId": "0365bbc3-db78-4f8f-99a0-42ab2b8e32f0"
      },
      "execution_count": null,
      "outputs": [
        {
          "output_type": "execute_result",
          "data": {
            "text/plain": [
              "response:\n",
              "GenerateContentResponse(\n",
              "    done=True,\n",
              "    iterator=None,\n",
              "    result=protos.GenerateContentResponse({\n",
              "      \"candidates\": [\n",
              "        {\n",
              "          \"content\": {\n",
              "            \"parts\": [\n",
              "              {\n",
              "                \"text\": \"Okay, get ready for a classic that still gets me every time!\\n\\nA man walks into a library and asks for books about paranoia.\\n\\nThe librarian whispers, \\\"They're right behind you!\\\"\"\n",
              "              }\n",
              "            ],\n",
              "            \"role\": \"model\"\n",
              "          },\n",
              "          \"finish_reason\": \"STOP\",\n",
              "          \"index\": 0\n",
              "        }\n",
              "      ],\n",
              "      \"usage_metadata\": {\n",
              "        \"prompt_token_count\": 8,\n",
              "        \"candidates_token_count\": 41,\n",
              "        \"total_token_count\": 2423\n",
              "      },\n",
              "      \"model_version\": \"gemini-2.5-flash\"\n",
              "    }),\n",
              ")"
            ]
          },
          "metadata": {},
          "execution_count": 45
        }
      ]
    },
    {
      "cell_type": "code",
      "source": [
        "genai.configure(api_key=api_key)\n",
        "llm=genai.GenerativeModel('gemini-2.5-flash')\n",
        "response=llm.generate_content(\"timro naam k ho mayalu?\")"
      ],
      "metadata": {
        "id": "2NllnEUI0G1G"
      },
      "execution_count": null,
      "outputs": []
    },
    {
      "cell_type": "code",
      "source": [
        "response"
      ],
      "metadata": {
        "colab": {
          "base_uri": "https://localhost:8080/"
        },
        "id": "TdXNNdkY4O7Q",
        "outputId": "e96b8c23-2561-4e04-b30f-c257f3fb31e6"
      },
      "execution_count": null,
      "outputs": [
        {
          "output_type": "execute_result",
          "data": {
            "text/plain": [
              "response:\n",
              "GenerateContentResponse(\n",
              "    done=True,\n",
              "    iterator=None,\n",
              "    result=protos.GenerateContentResponse({\n",
              "      \"candidates\": [\n",
              "        {\n",
              "          \"content\": {\n",
              "            \"parts\": [\n",
              "              {\n",
              "                \"text\": \"Okay, get ready for a classic that still gets me every time!\\n\\nA man walks into a library and asks for books about paranoia.\\n\\nThe librarian whispers, \\\"They're right behind you!\\\"\"\n",
              "              }\n",
              "            ],\n",
              "            \"role\": \"model\"\n",
              "          },\n",
              "          \"finish_reason\": \"STOP\",\n",
              "          \"index\": 0\n",
              "        }\n",
              "      ],\n",
              "      \"usage_metadata\": {\n",
              "        \"prompt_token_count\": 8,\n",
              "        \"candidates_token_count\": 41,\n",
              "        \"total_token_count\": 2423\n",
              "      },\n",
              "      \"model_version\": \"gemini-2.5-flash\"\n",
              "    }),\n",
              ")"
            ]
          },
          "metadata": {},
          "execution_count": 46
        }
      ]
    },
    {
      "cell_type": "code",
      "source": [
        "# tune the llm model\n",
        "generation_config={\n",
        "    'max_output_tokens':8000,\n",
        "    'temperature':0.6,\n",
        "    'candidate_count':1,\n",
        "}"
      ],
      "metadata": {
        "id": "HTMlnw5d4Tj7"
      },
      "execution_count": null,
      "outputs": []
    },
    {
      "cell_type": "code",
      "source": [
        "llm=genai.GenerativeModel(\n",
        "    model_name='gemini-2.5-flash',\n",
        "    generation_config=generation_config,\n",
        "    system_instruction=\"You are a helpful assistant\",\n",
        ")"
      ],
      "metadata": {
        "id": "KtrGy1Yo48RD"
      },
      "execution_count": null,
      "outputs": []
    },
    {
      "cell_type": "code",
      "source": [
        "input=\"What is theory of relativity?\""
      ],
      "metadata": {
        "id": "CYe_wW385bgF"
      },
      "execution_count": null,
      "outputs": []
    },
    {
      "cell_type": "code",
      "source": [
        "#start the session\n",
        "chat_session=llm.start_chat()"
      ],
      "metadata": {
        "id": "fVtKU_rK56rn"
      },
      "execution_count": null,
      "outputs": []
    },
    {
      "cell_type": "code",
      "source": [
        "response = chat_session.send_message(input)\n",
        "response.text"
      ],
      "metadata": {
        "colab": {
          "base_uri": "https://localhost:8080/",
          "height": 139
        },
        "id": "I0l0vrPL6E5q",
        "outputId": "4e032270-6a17-4255-b1a5-5d3e8d2a47d4"
      },
      "execution_count": null,
      "outputs": [
        {
          "output_type": "execute_result",
          "data": {
            "text/plain": [
              "'The **Theory of Relativity** is a groundbreaking scientific theory developed by Albert Einstein in the early 20th century. It fundamentally changed our understanding of space, time, gravity, and the universe itself, replacing Isaac Newton\\'s classical view of a fixed and absolute space and time.\\n\\nAt its core, the theory of relativity proposes that **space and time are not absolute and fixed, but are relative to the observer\\'s motion.** The only constant in the universe is the speed of light in a vacuum.\\n\\nThe theory is typically divided into two main parts:\\n\\n1.  **Special Relativity (1905):**\\n    *   **What it deals with:** Objects moving at constant speeds (uniform motion) in the absence of gravity.\\n    *   **Core Ideas (Postulates):**\\n        *   **Principle of Relativity:** The laws of physics are the same for all observers in uniform motion relative to one another.\\n        *   **Constancy of the Speed of Light:** The speed of light in a vacuum (approximately 299,792,458 meters per second or 186,282 miles per second) is the same for all observers, regardless of their own motion or the motion of the light source.\\n    *   **Mind-Bending Consequences:**\\n        *   **Time Dilation:** Clocks run slower for objects moving at high speeds relative to an observer. (e.g., an astronaut traveling near the speed of light would age slower than someone on Earth).\\n        *   **Length Contraction:** Objects appear shorter in the direction of their motion when traveling at high speeds.\\n        *   **Relativistic Mass Increase:** An object\\'s mass appears to increase as its speed approaches the speed of light.\\n        *   **Mass-Energy Equivalence (E=mc²):** This famous equation states that mass and energy are interchangeable; mass is a highly concentrated form of energy, and energy has mass. A small amount of mass can be converted into a tremendous amount of energy (like in nuclear reactions).\\n\\n2.  **General Relativity (1915):**\\n    *   **What it deals with:** Acceleration and, most importantly, **gravity**.\\n    *   **Core Idea:** General Relativity redefines gravity not as a force acting between objects (as Newton described), but as a **curvature of spacetime** caused by the presence of mass and energy.\\n    *   **Analogy:** Imagine a stretched rubber sheet. If you place a heavy bowling ball (representing a massive object like a star or planet) on it, it creates a dip or curve in the sheet. If you then roll a marble (representing a smaller object like a planet or a light ray) nearby, it doesn\\'t get \"pulled\" by the bowling ball; instead, it simply follows the curve in the sheet created by the bowling ball.\\n    *   **Consequences and Predictions:**\\n        *   **Gravitational Lensing:** Light from distant objects bends as it passes by massive objects (like galaxies), causing the distant object to appear distorted or in multiple places.\\n        *   **Black Holes:** Regions of spacetime where gravity is so strong that nothing, not even light, can escape.\\n        *   **Gravitational Waves:** Ripples in the fabric of spacetime caused by extremely energetic cosmic events (like colliding black holes), which propagate outward at the speed of light. These were directly detected in 2015.\\n        *   **Expansion of the Universe:** General Relativity provides the framework for understanding the large-scale structure and evolution of the universe.\\n\\n**Why is it important?**\\n\\nThe Theory of Relativity is fundamental to modern physics and astronomy. It\\'s essential for:\\n*   Understanding the behavior of objects at very high speeds.\\n*   Explaining the nature of gravity and the universe\\'s large-scale structure.\\n*   The functioning of technologies like **GPS systems** (without relativistic corrections, GPS would quickly accumulate errors and be useless).\\n*   Research in particle physics, cosmology, and astrophysics.\\n\\nIn essence, the Theory of Relativity revealed a universe far more dynamic, interconnected, and mind-bending than previously imagined, where space and time are not just a static backdrop, but active participants shaped by the matter and energy within them.'"
            ],
            "application/vnd.google.colaboratory.intrinsic+json": {
              "type": "string"
            }
          },
          "metadata": {},
          "execution_count": 50
        }
      ]
    },
    {
      "cell_type": "code",
      "source": [
        "#chatgpt using langchain\n",
        "!pip install langchain_google_genai"
      ],
      "metadata": {
        "colab": {
          "base_uri": "https://localhost:8080/",
          "height": 1000
        },
        "id": "JBt-GHPg6PQ6",
        "outputId": "7b068d86-d2aa-4909-e4b1-8cf212f49920"
      },
      "execution_count": null,
      "outputs": [
        {
          "output_type": "stream",
          "name": "stdout",
          "text": [
            "Collecting langchain_google_genai\n",
            "  Downloading langchain_google_genai-2.1.8-py3-none-any.whl.metadata (7.0 kB)\n",
            "Collecting filetype<2.0.0,>=1.2.0 (from langchain_google_genai)\n",
            "  Downloading filetype-1.2.0-py2.py3-none-any.whl.metadata (6.5 kB)\n",
            "Collecting google-ai-generativelanguage<0.7.0,>=0.6.18 (from langchain_google_genai)\n",
            "  Downloading google_ai_generativelanguage-0.6.18-py3-none-any.whl.metadata (9.8 kB)\n",
            "Requirement already satisfied: langchain-core<0.4.0,>=0.3.68 in /usr/local/lib/python3.11/dist-packages (from langchain_google_genai) (0.3.68)\n",
            "Requirement already satisfied: pydantic<3,>=2 in /usr/local/lib/python3.11/dist-packages (from langchain_google_genai) (2.11.7)\n",
            "Requirement already satisfied: google-api-core!=2.0.*,!=2.1.*,!=2.10.*,!=2.2.*,!=2.3.*,!=2.4.*,!=2.5.*,!=2.6.*,!=2.7.*,!=2.8.*,!=2.9.*,<3.0.0,>=1.34.1 in /usr/local/lib/python3.11/dist-packages (from google-api-core[grpc]!=2.0.*,!=2.1.*,!=2.10.*,!=2.2.*,!=2.3.*,!=2.4.*,!=2.5.*,!=2.6.*,!=2.7.*,!=2.8.*,!=2.9.*,<3.0.0,>=1.34.1->google-ai-generativelanguage<0.7.0,>=0.6.18->langchain_google_genai) (2.25.1)\n",
            "Requirement already satisfied: google-auth!=2.24.0,!=2.25.0,<3.0.0,>=2.14.1 in /usr/local/lib/python3.11/dist-packages (from google-ai-generativelanguage<0.7.0,>=0.6.18->langchain_google_genai) (2.38.0)\n",
            "Requirement already satisfied: proto-plus<2.0.0,>=1.22.3 in /usr/local/lib/python3.11/dist-packages (from google-ai-generativelanguage<0.7.0,>=0.6.18->langchain_google_genai) (1.26.1)\n",
            "Requirement already satisfied: protobuf!=4.21.0,!=4.21.1,!=4.21.2,!=4.21.3,!=4.21.4,!=4.21.5,<7.0.0,>=3.20.2 in /usr/local/lib/python3.11/dist-packages (from google-ai-generativelanguage<0.7.0,>=0.6.18->langchain_google_genai) (5.29.5)\n",
            "Requirement already satisfied: langsmith>=0.3.45 in /usr/local/lib/python3.11/dist-packages (from langchain-core<0.4.0,>=0.3.68->langchain_google_genai) (0.4.5)\n",
            "Requirement already satisfied: tenacity!=8.4.0,<10.0.0,>=8.1.0 in /usr/local/lib/python3.11/dist-packages (from langchain-core<0.4.0,>=0.3.68->langchain_google_genai) (8.5.0)\n",
            "Requirement already satisfied: jsonpatch<2.0,>=1.33 in /usr/local/lib/python3.11/dist-packages (from langchain-core<0.4.0,>=0.3.68->langchain_google_genai) (1.33)\n",
            "Requirement already satisfied: PyYAML>=5.3 in /usr/local/lib/python3.11/dist-packages (from langchain-core<0.4.0,>=0.3.68->langchain_google_genai) (6.0.2)\n",
            "Requirement already satisfied: packaging<25,>=23.2 in /usr/local/lib/python3.11/dist-packages (from langchain-core<0.4.0,>=0.3.68->langchain_google_genai) (24.2)\n",
            "Requirement already satisfied: typing-extensions>=4.7 in /usr/local/lib/python3.11/dist-packages (from langchain-core<0.4.0,>=0.3.68->langchain_google_genai) (4.14.1)\n",
            "Requirement already satisfied: annotated-types>=0.6.0 in /usr/local/lib/python3.11/dist-packages (from pydantic<3,>=2->langchain_google_genai) (0.7.0)\n",
            "Requirement already satisfied: pydantic-core==2.33.2 in /usr/local/lib/python3.11/dist-packages (from pydantic<3,>=2->langchain_google_genai) (2.33.2)\n",
            "Requirement already satisfied: typing-inspection>=0.4.0 in /usr/local/lib/python3.11/dist-packages (from pydantic<3,>=2->langchain_google_genai) (0.4.1)\n",
            "Requirement already satisfied: googleapis-common-protos<2.0.0,>=1.56.2 in /usr/local/lib/python3.11/dist-packages (from google-api-core!=2.0.*,!=2.1.*,!=2.10.*,!=2.2.*,!=2.3.*,!=2.4.*,!=2.5.*,!=2.6.*,!=2.7.*,!=2.8.*,!=2.9.*,<3.0.0,>=1.34.1->google-api-core[grpc]!=2.0.*,!=2.1.*,!=2.10.*,!=2.2.*,!=2.3.*,!=2.4.*,!=2.5.*,!=2.6.*,!=2.7.*,!=2.8.*,!=2.9.*,<3.0.0,>=1.34.1->google-ai-generativelanguage<0.7.0,>=0.6.18->langchain_google_genai) (1.70.0)\n",
            "Requirement already satisfied: requests<3.0.0,>=2.18.0 in /usr/local/lib/python3.11/dist-packages (from google-api-core!=2.0.*,!=2.1.*,!=2.10.*,!=2.2.*,!=2.3.*,!=2.4.*,!=2.5.*,!=2.6.*,!=2.7.*,!=2.8.*,!=2.9.*,<3.0.0,>=1.34.1->google-api-core[grpc]!=2.0.*,!=2.1.*,!=2.10.*,!=2.2.*,!=2.3.*,!=2.4.*,!=2.5.*,!=2.6.*,!=2.7.*,!=2.8.*,!=2.9.*,<3.0.0,>=1.34.1->google-ai-generativelanguage<0.7.0,>=0.6.18->langchain_google_genai) (2.32.3)\n",
            "Requirement already satisfied: grpcio<2.0.0,>=1.33.2 in /usr/local/lib/python3.11/dist-packages (from google-api-core[grpc]!=2.0.*,!=2.1.*,!=2.10.*,!=2.2.*,!=2.3.*,!=2.4.*,!=2.5.*,!=2.6.*,!=2.7.*,!=2.8.*,!=2.9.*,<3.0.0,>=1.34.1->google-ai-generativelanguage<0.7.0,>=0.6.18->langchain_google_genai) (1.73.1)\n",
            "Requirement already satisfied: grpcio-status<2.0.0,>=1.33.2 in /usr/local/lib/python3.11/dist-packages (from google-api-core[grpc]!=2.0.*,!=2.1.*,!=2.10.*,!=2.2.*,!=2.3.*,!=2.4.*,!=2.5.*,!=2.6.*,!=2.7.*,!=2.8.*,!=2.9.*,<3.0.0,>=1.34.1->google-ai-generativelanguage<0.7.0,>=0.6.18->langchain_google_genai) (1.71.2)\n",
            "Requirement already satisfied: cachetools<6.0,>=2.0.0 in /usr/local/lib/python3.11/dist-packages (from google-auth!=2.24.0,!=2.25.0,<3.0.0,>=2.14.1->google-ai-generativelanguage<0.7.0,>=0.6.18->langchain_google_genai) (5.5.2)\n",
            "Requirement already satisfied: pyasn1-modules>=0.2.1 in /usr/local/lib/python3.11/dist-packages (from google-auth!=2.24.0,!=2.25.0,<3.0.0,>=2.14.1->google-ai-generativelanguage<0.7.0,>=0.6.18->langchain_google_genai) (0.4.2)\n",
            "Requirement already satisfied: rsa<5,>=3.1.4 in /usr/local/lib/python3.11/dist-packages (from google-auth!=2.24.0,!=2.25.0,<3.0.0,>=2.14.1->google-ai-generativelanguage<0.7.0,>=0.6.18->langchain_google_genai) (4.9.1)\n",
            "Requirement already satisfied: jsonpointer>=1.9 in /usr/local/lib/python3.11/dist-packages (from jsonpatch<2.0,>=1.33->langchain-core<0.4.0,>=0.3.68->langchain_google_genai) (3.0.0)\n",
            "Requirement already satisfied: httpx<1,>=0.23.0 in /usr/local/lib/python3.11/dist-packages (from langsmith>=0.3.45->langchain-core<0.4.0,>=0.3.68->langchain_google_genai) (0.28.1)\n",
            "Requirement already satisfied: orjson<4.0.0,>=3.9.14 in /usr/local/lib/python3.11/dist-packages (from langsmith>=0.3.45->langchain-core<0.4.0,>=0.3.68->langchain_google_genai) (3.10.18)\n",
            "Requirement already satisfied: requests-toolbelt<2.0.0,>=1.0.0 in /usr/local/lib/python3.11/dist-packages (from langsmith>=0.3.45->langchain-core<0.4.0,>=0.3.68->langchain_google_genai) (1.0.0)\n",
            "Requirement already satisfied: zstandard<0.24.0,>=0.23.0 in /usr/local/lib/python3.11/dist-packages (from langsmith>=0.3.45->langchain-core<0.4.0,>=0.3.68->langchain_google_genai) (0.23.0)\n",
            "Requirement already satisfied: anyio in /usr/local/lib/python3.11/dist-packages (from httpx<1,>=0.23.0->langsmith>=0.3.45->langchain-core<0.4.0,>=0.3.68->langchain_google_genai) (4.9.0)\n",
            "Requirement already satisfied: certifi in /usr/local/lib/python3.11/dist-packages (from httpx<1,>=0.23.0->langsmith>=0.3.45->langchain-core<0.4.0,>=0.3.68->langchain_google_genai) (2025.7.14)\n",
            "Requirement already satisfied: httpcore==1.* in /usr/local/lib/python3.11/dist-packages (from httpx<1,>=0.23.0->langsmith>=0.3.45->langchain-core<0.4.0,>=0.3.68->langchain_google_genai) (1.0.9)\n",
            "Requirement already satisfied: idna in /usr/local/lib/python3.11/dist-packages (from httpx<1,>=0.23.0->langsmith>=0.3.45->langchain-core<0.4.0,>=0.3.68->langchain_google_genai) (3.10)\n",
            "Requirement already satisfied: h11>=0.16 in /usr/local/lib/python3.11/dist-packages (from httpcore==1.*->httpx<1,>=0.23.0->langsmith>=0.3.45->langchain-core<0.4.0,>=0.3.68->langchain_google_genai) (0.16.0)\n",
            "Requirement already satisfied: pyasn1<0.7.0,>=0.6.1 in /usr/local/lib/python3.11/dist-packages (from pyasn1-modules>=0.2.1->google-auth!=2.24.0,!=2.25.0,<3.0.0,>=2.14.1->google-ai-generativelanguage<0.7.0,>=0.6.18->langchain_google_genai) (0.6.1)\n",
            "Requirement already satisfied: charset-normalizer<4,>=2 in /usr/local/lib/python3.11/dist-packages (from requests<3.0.0,>=2.18.0->google-api-core!=2.0.*,!=2.1.*,!=2.10.*,!=2.2.*,!=2.3.*,!=2.4.*,!=2.5.*,!=2.6.*,!=2.7.*,!=2.8.*,!=2.9.*,<3.0.0,>=1.34.1->google-api-core[grpc]!=2.0.*,!=2.1.*,!=2.10.*,!=2.2.*,!=2.3.*,!=2.4.*,!=2.5.*,!=2.6.*,!=2.7.*,!=2.8.*,!=2.9.*,<3.0.0,>=1.34.1->google-ai-generativelanguage<0.7.0,>=0.6.18->langchain_google_genai) (3.4.2)\n",
            "Requirement already satisfied: urllib3<3,>=1.21.1 in /usr/local/lib/python3.11/dist-packages (from requests<3.0.0,>=2.18.0->google-api-core!=2.0.*,!=2.1.*,!=2.10.*,!=2.2.*,!=2.3.*,!=2.4.*,!=2.5.*,!=2.6.*,!=2.7.*,!=2.8.*,!=2.9.*,<3.0.0,>=1.34.1->google-api-core[grpc]!=2.0.*,!=2.1.*,!=2.10.*,!=2.2.*,!=2.3.*,!=2.4.*,!=2.5.*,!=2.6.*,!=2.7.*,!=2.8.*,!=2.9.*,<3.0.0,>=1.34.1->google-ai-generativelanguage<0.7.0,>=0.6.18->langchain_google_genai) (2.4.0)\n",
            "Requirement already satisfied: sniffio>=1.1 in /usr/local/lib/python3.11/dist-packages (from anyio->httpx<1,>=0.23.0->langsmith>=0.3.45->langchain-core<0.4.0,>=0.3.68->langchain_google_genai) (1.3.1)\n",
            "Downloading langchain_google_genai-2.1.8-py3-none-any.whl (47 kB)\n",
            "\u001b[2K   \u001b[90m━━━━━━━━━━━━━━━━━━━━━━━━━━━━━━━━━━━━━━━━\u001b[0m \u001b[32m47.8/47.8 kB\u001b[0m \u001b[31m1.6 MB/s\u001b[0m eta \u001b[36m0:00:00\u001b[0m\n",
            "\u001b[?25hDownloading filetype-1.2.0-py2.py3-none-any.whl (19 kB)\n",
            "Downloading google_ai_generativelanguage-0.6.18-py3-none-any.whl (1.4 MB)\n",
            "\u001b[2K   \u001b[90m━━━━━━━━━━━━━━━━━━━━━━━━━━━━━━━━━━━━━━━━\u001b[0m \u001b[32m1.4/1.4 MB\u001b[0m \u001b[31m16.1 MB/s\u001b[0m eta \u001b[36m0:00:00\u001b[0m\n",
            "\u001b[?25hInstalling collected packages: filetype, google-ai-generativelanguage, langchain_google_genai\n",
            "  Attempting uninstall: google-ai-generativelanguage\n",
            "    Found existing installation: google-ai-generativelanguage 0.6.15\n",
            "    Uninstalling google-ai-generativelanguage-0.6.15:\n",
            "      Successfully uninstalled google-ai-generativelanguage-0.6.15\n",
            "\u001b[31mERROR: pip's dependency resolver does not currently take into account all the packages that are installed. This behaviour is the source of the following dependency conflicts.\n",
            "google-generativeai 0.8.5 requires google-ai-generativelanguage==0.6.15, but you have google-ai-generativelanguage 0.6.18 which is incompatible.\u001b[0m\u001b[31m\n",
            "\u001b[0mSuccessfully installed filetype-1.2.0 google-ai-generativelanguage-0.6.18 langchain_google_genai-2.1.8\n"
          ]
        },
        {
          "output_type": "display_data",
          "data": {
            "application/vnd.colab-display-data+json": {
              "pip_warning": {
                "packages": [
                  "google"
                ]
              },
              "id": "cdbf7723440a429faed0897602f09eaa"
            }
          },
          "metadata": {}
        }
      ]
    },
    {
      "cell_type": "code",
      "source": [
        "from langchain_google_genai import ChatGoogleGenerativeAI"
      ],
      "metadata": {
        "id": "5j_sPDWY7dJ2"
      },
      "execution_count": null,
      "outputs": []
    },
    {
      "cell_type": "code",
      "source": [
        "llm=ChatGoogleGenerativeAI(model=\"gemini-2.5-flash\",api_key=api_key)"
      ],
      "metadata": {
        "id": "9_tonKwq7rJT"
      },
      "execution_count": null,
      "outputs": []
    },
    {
      "cell_type": "code",
      "source": [
        "result=llm.invoke(\"Tell me a joke in nepali?\")\n",
        "result.content"
      ],
      "metadata": {
        "colab": {
          "base_uri": "https://localhost:8080/",
          "height": 52
        },
        "id": "4N_95n6W74PK",
        "outputId": "8ae7bfed-8a89-4120-e228-f6c9eb0290f6"
      },
      "execution_count": null,
      "outputs": [
        {
          "output_type": "execute_result",
          "data": {
            "text/plain": [
              "'पक्कै! यहाँ एउटा सानो जोक छ:\\n\\nगुरुजी: \"बाबु, तिमीले बाघ देख्यौ भने के गर्छौ?\"\\nबिद्यार्थी: \"म तुरुन्तै मेरो किताब बन्द गर्छु, गुरुजी!\"\\n\\n***\\n\\n**In English:**\\n\\nTeacher: \"Son, what do you do if you see a tiger?\"\\nStudent: \"I immediately close my book, Guruji!\"'"
            ],
            "application/vnd.google.colaboratory.intrinsic+json": {
              "type": "string"
            }
          },
          "metadata": {},
          "execution_count": 54
        }
      ]
    },
    {
      "cell_type": "code",
      "source": [
        "result=llm.invoke(\"Tell me a joke in nepali in engineering exam?\")\n",
        "result.content"
      ],
      "metadata": {
        "colab": {
          "base_uri": "https://localhost:8080/",
          "height": 174
        },
        "id": "xzGYExcI8Aon",
        "outputId": "70bd9070-6aea-4be5-f625-adb0bc0ef6cd"
      },
      "execution_count": null,
      "outputs": [
        {
          "output_type": "execute_result",
          "data": {
            "text/plain": [
              "'Here\\'s a classic one that plays on the student experience in Nepal, especially in tough fields like engineering:\\n\\n**Joke in Nepali:**\\n\\nइन्जिनियरिङको परीक्षा हलमा,\\nप्रोफेसर: \"तिमीले यो प्रश्नपत्र किन खाली छोड्यौ?\"\\nविद्यार्थी: \"सर, म एउटा इन्जिनियर हुँ। म समाधानहरू लेख्दिनँ, म तिनीहरूलाई सिधै बनाउँछु!\"\\n\\n**Transliteration (for pronunciation):**\\n\\nEngineering ko Pariksha Hall ma,\\nProfessor: \"Timi le yo prashnapatra kina khali chhodyau?\"\\nVidyarthi: \"Sir, ma euta engineer hun. Ma samadhan haru lekhdina, ma tiniharu lai sidhai banaunchhu!\"\\n\\n**English Translation and Explanation:**\\n\\n**Professor:** (In an engineering exam hall) \"Why did you leave this question paper blank?\"\\n**Student:** \"Sir, I am an engineer. I don\\'t write solutions, I build them directly!\"\\n\\n**Explanation of the Humor:**\\n\\nThis joke plays on the common stereotype of engineering students (and engineers in general) being more hands-on and practical rather than theoretical or good at writing. The student gives a cheeky, over-confident, and ultimately absurd excuse for not writing anything, implying that their knowledge is meant for practical application, not just for an exam paper. It\\'s a self-deprecating yet proud jab at the engineering mindset.'"
            ],
            "application/vnd.google.colaboratory.intrinsic+json": {
              "type": "string"
            }
          },
          "metadata": {},
          "execution_count": 55
        }
      ]
    },
    {
      "cell_type": "code",
      "source": [
        "print(result.content)\n"
      ],
      "metadata": {
        "colab": {
          "base_uri": "https://localhost:8080/"
        },
        "id": "MP-7s9mo8L6P",
        "outputId": "e1262ff2-e730-4b52-f4f5-fb5e481ee883"
      },
      "execution_count": null,
      "outputs": [
        {
          "output_type": "stream",
          "name": "stdout",
          "text": [
            "Here's a classic one that plays on the student experience in Nepal, especially in tough fields like engineering:\n",
            "\n",
            "**Joke in Nepali:**\n",
            "\n",
            "इन्जिनियरिङको परीक्षा हलमा,\n",
            "प्रोफेसर: \"तिमीले यो प्रश्नपत्र किन खाली छोड्यौ?\"\n",
            "विद्यार्थी: \"सर, म एउटा इन्जिनियर हुँ। म समाधानहरू लेख्दिनँ, म तिनीहरूलाई सिधै बनाउँछु!\"\n",
            "\n",
            "**Transliteration (for pronunciation):**\n",
            "\n",
            "Engineering ko Pariksha Hall ma,\n",
            "Professor: \"Timi le yo prashnapatra kina khali chhodyau?\"\n",
            "Vidyarthi: \"Sir, ma euta engineer hun. Ma samadhan haru lekhdina, ma tiniharu lai sidhai banaunchhu!\"\n",
            "\n",
            "**English Translation and Explanation:**\n",
            "\n",
            "**Professor:** (In an engineering exam hall) \"Why did you leave this question paper blank?\"\n",
            "**Student:** \"Sir, I am an engineer. I don't write solutions, I build them directly!\"\n",
            "\n",
            "**Explanation of the Humor:**\n",
            "\n",
            "This joke plays on the common stereotype of engineering students (and engineers in general) being more hands-on and practical rather than theoretical or good at writing. The student gives a cheeky, over-confident, and ultimately absurd excuse for not writing anything, implying that their knowledge is meant for practical application, not just for an exam paper. It's a self-deprecating yet proud jab at the engineering mindset.\n"
          ]
        }
      ]
    },
    {
      "cell_type": "code",
      "source": [
        "result=llm.invoke(\"Tell me a joke in nepali in south indian movie in hindi language?\")\n",
        "result.content"
      ],
      "metadata": {
        "colab": {
          "base_uri": "https://localhost:8080/",
          "height": 139
        },
        "id": "sVfSHHgI8WTF",
        "outputId": "84fc9c0d-00dd-4523-84f6-a54b41ae2378"
      },
      "execution_count": null,
      "outputs": [
        {
          "output_type": "execute_result",
          "data": {
            "text/plain": [
              "'Okay, this is a fun and specific request! Let\\'s try to blend the over-the-top drama of a South Indian movie with a Nepali punchline, all delivered in Hindi.\\n\\n---\\n\\n**Scene:** A dark, dusty warehouse. The villain, *Bhairav Anna*, stands surrounded by his goons. The hero, *Rana*, walks in, slow-motion, dust swirling around him. Intense background music swells.\\n\\n**Bhairav Anna:** (Deep, menacing voice, typical South Indian villain style)\\n\"Rana! Tu aa hi gaya! Aaj teri maut pakki hai! Tune mere empire ko hila diya! Tujhe kya laga, tu mujhe rok lega?\"\\n*(Rana! So you came! Today your death is certain! You shook my empire! What did you think, you\\'d stop me?)*\\n\\n**Rana:** (Stops, intense stare, wind machine effect, dramatic pause)\\n\"Bhairav! Tumhe kya lagta hai? Main woh aandhi hoon jo sab kuch uda le jaati hai! Main woh jwala hoon jo sab kuch jala deti hai! Main woh tsunami hoon jo sab kuch baha le jaati hai!\"\\n*(Bhairav! What do you think? I am the storm that blows everything away! I am the flame that burns everything! I am the tsunami that washes everything away!)*\\n\\n**Bhairav Anna:** (Laughs menacingly, his goons echo his laugh)\\n\"Hahaha! Aandhi? Jwala? Tsunami? Main woh pahad hoon jo aandhiyon ko bhi cheer deta hai, jwala ko bujha deta hai, aur tsunami ko apni jagah rok deta hai!\"\\n*(Hahaha! Storm? Flame? Tsunami? I am the mountain that even tears storms apart, extinguishes flames, and stops tsunamis in their tracks!)*\\n\\n**Rana:** (Takes one step closer, eyes blazing, music gets even more intense)\\n\"Lekin Bhairav! Tumhe pata nahi... main woh Nepali hoon...\"\\n*(But Bhairav! You don\\'t know... I am that Nepali...)*\\n\\n**(Dramatic pause. Bhairav Anna and goons lean in, intrigued. Music builds to a crescendo.)**\\n\\n**Rana:** \"...jiske ghar mein load-shedding se LED bulb bhi fuse ho jaata hai!\"\\n*(...whose LED bulb even fuses from load-shedding!)*\\n\\n---\\n\\n**Explanation of the humor:**\\nThe joke plays on the typical over-the-top, dramatic dialogues of South Indian movies (especially their Hindi dubbed versions). The hero builds up this grand, powerful image, only to deliver a very relatable, mundane, and slightly helpless punchline that refers to a common problem in Nepal (load-shedding/power cuts). The contrast between the epic setup and the mundane reality is where the humor lies.'"
            ],
            "application/vnd.google.colaboratory.intrinsic+json": {
              "type": "string"
            }
          },
          "metadata": {},
          "execution_count": 57
        }
      ]
    },
    {
      "cell_type": "code",
      "source": [
        "print(result.content)"
      ],
      "metadata": {
        "colab": {
          "base_uri": "https://localhost:8080/"
        },
        "id": "jLwZXcel8lLM",
        "outputId": "3dfeebf6-ebdb-47dc-8517-536fcfd5aeb6"
      },
      "execution_count": null,
      "outputs": [
        {
          "output_type": "stream",
          "name": "stdout",
          "text": [
            "Okay, this is a fun and specific request! Let's try to blend the over-the-top drama of a South Indian movie with a Nepali punchline, all delivered in Hindi.\n",
            "\n",
            "---\n",
            "\n",
            "**Scene:** A dark, dusty warehouse. The villain, *Bhairav Anna*, stands surrounded by his goons. The hero, *Rana*, walks in, slow-motion, dust swirling around him. Intense background music swells.\n",
            "\n",
            "**Bhairav Anna:** (Deep, menacing voice, typical South Indian villain style)\n",
            "\"Rana! Tu aa hi gaya! Aaj teri maut pakki hai! Tune mere empire ko hila diya! Tujhe kya laga, tu mujhe rok lega?\"\n",
            "*(Rana! So you came! Today your death is certain! You shook my empire! What did you think, you'd stop me?)*\n",
            "\n",
            "**Rana:** (Stops, intense stare, wind machine effect, dramatic pause)\n",
            "\"Bhairav! Tumhe kya lagta hai? Main woh aandhi hoon jo sab kuch uda le jaati hai! Main woh jwala hoon jo sab kuch jala deti hai! Main woh tsunami hoon jo sab kuch baha le jaati hai!\"\n",
            "*(Bhairav! What do you think? I am the storm that blows everything away! I am the flame that burns everything! I am the tsunami that washes everything away!)*\n",
            "\n",
            "**Bhairav Anna:** (Laughs menacingly, his goons echo his laugh)\n",
            "\"Hahaha! Aandhi? Jwala? Tsunami? Main woh pahad hoon jo aandhiyon ko bhi cheer deta hai, jwala ko bujha deta hai, aur tsunami ko apni jagah rok deta hai!\"\n",
            "*(Hahaha! Storm? Flame? Tsunami? I am the mountain that even tears storms apart, extinguishes flames, and stops tsunamis in their tracks!)*\n",
            "\n",
            "**Rana:** (Takes one step closer, eyes blazing, music gets even more intense)\n",
            "\"Lekin Bhairav! Tumhe pata nahi... main woh Nepali hoon...\"\n",
            "*(But Bhairav! You don't know... I am that Nepali...)*\n",
            "\n",
            "**(Dramatic pause. Bhairav Anna and goons lean in, intrigued. Music builds to a crescendo.)**\n",
            "\n",
            "**Rana:** \"...jiske ghar mein load-shedding se LED bulb bhi fuse ho jaata hai!\"\n",
            "*(...whose LED bulb even fuses from load-shedding!)*\n",
            "\n",
            "---\n",
            "\n",
            "**Explanation of the humor:**\n",
            "The joke plays on the typical over-the-top, dramatic dialogues of South Indian movies (especially their Hindi dubbed versions). The hero builds up this grand, powerful image, only to deliver a very relatable, mundane, and slightly helpless punchline that refers to a common problem in Nepal (load-shedding/power cuts). The contrast between the epic setup and the mundane reality is where the humor lies.\n"
          ]
        }
      ]
    },
    {
      "cell_type": "code",
      "source": [
        "template_string=\"\"\"Translate the text\\\n",
        "that is delimited by triple backticks\\\n",
        "into a style that is {style}.\\\n",
        "text:```{text}```\n",
        "\"\"\"\n",
        "\n"
      ],
      "metadata": {
        "id": "wSAS30ic8niw"
      },
      "execution_count": null,
      "outputs": []
    },
    {
      "cell_type": "code",
      "source": [
        "from langchain.prompts import ChatPromptTemplate\n",
        "prompt_template=ChatPromptTemplate.from_template(template_string)"
      ],
      "metadata": {
        "id": "wlOf3C_t-CBx"
      },
      "execution_count": null,
      "outputs": []
    },
    {
      "cell_type": "code",
      "source": [
        "prompt_template.messages[0].prompt"
      ],
      "metadata": {
        "colab": {
          "base_uri": "https://localhost:8080/"
        },
        "id": "v0BjiBPi-PxZ",
        "outputId": "462c7d14-26f6-4a16-a5ea-c81ec8b02201"
      },
      "execution_count": null,
      "outputs": [
        {
          "output_type": "execute_result",
          "data": {
            "text/plain": [
              "PromptTemplate(input_variables=['style', 'text'], input_types={}, partial_variables={}, template='Translate the textthat is delimited by triple backticksinto a style that is {style}.text:```{text}```\\n')"
            ]
          },
          "metadata": {},
          "execution_count": 62
        }
      ]
    },
    {
      "cell_type": "code",
      "source": [
        "coustomer_style=\"\"\"pure nepali\\\n",
        "in a calm and respectful tone\n",
        "\"\"\""
      ],
      "metadata": {
        "id": "g2F7pFRA-XN0"
      },
      "execution_count": null,
      "outputs": []
    },
    {
      "cell_type": "code",
      "source": [
        "coustomer_email=\"\"\"welcome to GENAI Tutorial\\\n",
        "class.This is day1.We are using Goodle gemini flash model\n",
        "\"\"\""
      ],
      "metadata": {
        "id": "kBoq_h3J-lOv"
      },
      "execution_count": null,
      "outputs": []
    },
    {
      "cell_type": "code",
      "source": [
        "service_style=\"\"\"a polite tone \\that speaks in french\"\"\"\n",
        "service_reply=\"\"\"hey coustomer the warranty doesnt cover cleaning expenses for your kitchen item\"\"\""
      ],
      "metadata": {
        "id": "WdBfdmNqARkd"
      },
      "execution_count": null,
      "outputs": []
    },
    {
      "cell_type": "code",
      "source": [
        "coustomer_messages=prompt_template.format_messages(\n",
        "    style=service_style,\n",
        "    text=service_reply\n",
        ")"
      ],
      "metadata": {
        "id": "IXMEoINv-0mi"
      },
      "execution_count": null,
      "outputs": []
    },
    {
      "cell_type": "code",
      "source": [],
      "metadata": {
        "id": "3tmbADvf_5Fw"
      },
      "execution_count": null,
      "outputs": []
    },
    {
      "cell_type": "code",
      "source": [
        "print(coustomer_messages[0])"
      ],
      "metadata": {
        "colab": {
          "base_uri": "https://localhost:8080/"
        },
        "id": "xc-avaVp_AZI",
        "outputId": "c17a2293-417a-493c-85cd-53d23389753a"
      },
      "execution_count": null,
      "outputs": [
        {
          "output_type": "stream",
          "name": "stdout",
          "text": [
            "content='Translate the textthat is delimited by triple backticksinto a style that is a polite tone \\that speaks in french.text:```hey coustomer the warranty doesnt cover cleaning expenses for your kitchen item```\\n' additional_kwargs={} response_metadata={}\n"
          ]
        }
      ]
    },
    {
      "cell_type": "code",
      "source": [
        "#lets call llm model to translate the style in pure nepali respectful tone\n",
        "coustomer_response=llm.invoke(coustomer_messages)\n",
        "print(coustomer_response)"
      ],
      "metadata": {
        "colab": {
          "base_uri": "https://localhost:8080/"
        },
        "id": "Or-HlSG0_G5j",
        "outputId": "b2c25516-7f18-4cc1-8bcb-f7d084344112"
      },
      "execution_count": null,
      "outputs": [
        {
          "output_type": "stream",
          "name": "stdout",
          "text": [
            "content='Bonjour,\\n\\nMalheureusement, les frais de nettoyage de votre article de cuisine ne sont pas couverts par la garantie.' additional_kwargs={} response_metadata={'prompt_feedback': {'block_reason': 0, 'safety_ratings': []}, 'finish_reason': 'STOP', 'model_name': 'gemini-2.5-flash', 'safety_ratings': []} id='run--58fb80e8-d1ff-4448-ac46-75283118e55a-0'\n"
          ]
        }
      ]
    },
    {
      "cell_type": "code",
      "source": [
        "service_style=\"\"\"a polite tone \\that speaks in nepali\"\"\"\n",
        "service_reply=\"\"\"hey coustomer the warranty doesnt cover cleaning expenses for your kitchen item\"\"\""
      ],
      "metadata": {
        "id": "seheUsfMBZz-"
      },
      "execution_count": null,
      "outputs": []
    },
    {
      "cell_type": "code",
      "source": [
        "coustomer_messages=prompt_template.format_messages(\n",
        "    style=service_style,\n",
        "    text=service_reply\n",
        ")"
      ],
      "metadata": {
        "id": "yZvqEMMIBhRW"
      },
      "execution_count": null,
      "outputs": []
    },
    {
      "cell_type": "code",
      "source": [
        "#lets call llm model to translate the style in pure nepali respectful tone\n",
        "coustomer_response=llm.invoke(coustomer_messages)\n",
        "print(coustomer_response)"
      ],
      "metadata": {
        "colab": {
          "base_uri": "https://localhost:8080/"
        },
        "id": "pUXjQEPc_n63",
        "outputId": "67b4b35b-3cd0-4c6a-b47c-56e045d66281"
      },
      "execution_count": null,
      "outputs": [
        {
          "output_type": "stream",
          "name": "stdout",
          "text": [
            "content='Here are a few options, ranging from polite to very polite, using common Nepali phrases for customer interaction:\\n\\n**Option 1 (Polite & Direct):**\\nनमस्ते ग्राहकज्यू, तपाईंको भान्साको सामानको वारेन्टीले सरसफाइ खर्च समावेश गर्दैन।\\n*Namaste graahakjyu, tapaaiko bhansako saamaanko waarentile sarasaphai kharcha samavesh gardaina.*\\n(Hello, respected customer, the warranty for your kitchen item does not include cleaning expenses.)\\n\\n**Option 2 (Slightly more formal, emphasizing terms):**\\nग्राहकज्यू, वारेन्टीको शर्त अनुसार, भान्साको सामानको सरसफाइ खर्च यस अन्तर्गत पर्दैन।\\n*Graahakjyu, waarentiko sharta anusaar, bhansako saamaanko sarasaphai kharcha yas antargat pardaina.*\\n(Respected customer, according to the warranty terms, cleaning expenses for the kitchen item do not fall under this.)\\n\\n**Option 3 (Very polite, with a softer approach):**\\nशुभदिन ग्राहकज्यू, जानकारी गराउन चाहन्छौं कि तपाईंको भान्साको सामानको वारेन्टीले सरसफाइ खर्चलाई समेट्दैन।\\n*Shubh-din graahakjyu, jaankaari garauna chahanchhau ki tapaaiko bhansako saamaanko waarentile sarasaphai kharchalai sametdaina.*\\n(Good day, respected customer, we would like to inform you that the warranty for your kitchen item does not cover cleaning expenses.)\\n\\n**Key polite elements used:**\\n*   **नमस्ते (Namaste) / शुभदिन (Shubh-din):** Standard polite greetings.\\n*   **ग्राहकज्यू (Graahakjyu):** Adding \"ज्यू\" (jyu) after \"ग्राहक\" (graahak - customer) makes it respectful, similar to \"sir/madam.\"\\n*   **समावेश गर्दैन (samavesh gardaina) / अन्तर्गत पर्दैन (antargat pardaina) / समेट्दैन (sametdaina):** These are polite ways to say \"does not include/cover/fall under.\"\\n*   **जानकारी गराउन चाहन्छौं कि (jaankaari garauna chahanchhau ki):** \"We would like to inform you that...\" - a very polite way to deliver information.\\n*   **वारेन्टीको शर्त अनुसार (waarentiko sharta anusaar):** \"According to the warranty terms\" - professional and clear.' additional_kwargs={} response_metadata={'prompt_feedback': {'block_reason': 0, 'safety_ratings': []}, 'finish_reason': 'STOP', 'model_name': 'gemini-2.5-flash', 'safety_ratings': []} id='run--c8ad1371-f409-4653-a361-2a4313478811-0'\n"
          ]
        }
      ]
    },
    {
      "cell_type": "code",
      "source": [
        "print(coustomer_response.content)"
      ],
      "metadata": {
        "colab": {
          "base_uri": "https://localhost:8080/"
        },
        "id": "m6I-s1SSAsfV",
        "outputId": "a05b0467-764b-4ffc-952c-81afb7535036"
      },
      "execution_count": null,
      "outputs": [
        {
          "output_type": "stream",
          "name": "stdout",
          "text": [
            "Here are a few options, ranging from polite to very polite, using common Nepali phrases for customer interaction:\n",
            "\n",
            "**Option 1 (Polite & Direct):**\n",
            "नमस्ते ग्राहकज्यू, तपाईंको भान्साको सामानको वारेन्टीले सरसफाइ खर्च समावेश गर्दैन।\n",
            "*Namaste graahakjyu, tapaaiko bhansako saamaanko waarentile sarasaphai kharcha samavesh gardaina.*\n",
            "(Hello, respected customer, the warranty for your kitchen item does not include cleaning expenses.)\n",
            "\n",
            "**Option 2 (Slightly more formal, emphasizing terms):**\n",
            "ग्राहकज्यू, वारेन्टीको शर्त अनुसार, भान्साको सामानको सरसफाइ खर्च यस अन्तर्गत पर्दैन।\n",
            "*Graahakjyu, waarentiko sharta anusaar, bhansako saamaanko sarasaphai kharcha yas antargat pardaina.*\n",
            "(Respected customer, according to the warranty terms, cleaning expenses for the kitchen item do not fall under this.)\n",
            "\n",
            "**Option 3 (Very polite, with a softer approach):**\n",
            "शुभदिन ग्राहकज्यू, जानकारी गराउन चाहन्छौं कि तपाईंको भान्साको सामानको वारेन्टीले सरसफाइ खर्चलाई समेट्दैन।\n",
            "*Shubh-din graahakjyu, jaankaari garauna chahanchhau ki tapaaiko bhansako saamaanko waarentile sarasaphai kharchalai sametdaina.*\n",
            "(Good day, respected customer, we would like to inform you that the warranty for your kitchen item does not cover cleaning expenses.)\n",
            "\n",
            "**Key polite elements used:**\n",
            "*   **नमस्ते (Namaste) / शुभदिन (Shubh-din):** Standard polite greetings.\n",
            "*   **ग्राहकज्यू (Graahakjyu):** Adding \"ज्यू\" (jyu) after \"ग्राहक\" (graahak - customer) makes it respectful, similar to \"sir/madam.\"\n",
            "*   **समावेश गर्दैन (samavesh gardaina) / अन्तर्गत पर्दैन (antargat pardaina) / समेट्दैन (sametdaina):** These are polite ways to say \"does not include/cover/fall under.\"\n",
            "*   **जानकारी गराउन चाहन्छौं कि (jaankaari garauna chahanchhau ki):** \"We would like to inform you that...\" - a very polite way to deliver information.\n",
            "*   **वारेन्टीको शर्त अनुसार (waarentiko sharta anusaar):** \"According to the warranty terms\" - professional and clear.\n"
          ]
        }
      ]
    },
    {
      "cell_type": "code",
      "source": [],
      "metadata": {
        "id": "vgv_ndEIB8JK"
      },
      "execution_count": null,
      "outputs": []
    }
  ]
}